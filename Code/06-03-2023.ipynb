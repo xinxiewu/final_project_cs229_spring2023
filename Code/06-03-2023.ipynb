{
 "cells": [
  {
   "cell_type": "code",
   "execution_count": 1,
   "id": "c2038a40",
   "metadata": {},
   "outputs": [],
   "source": [
    "import numpy as np\n",
    "import pandas as pd\n",
    "from sklearn.model_selection import train_test_split\n",
    "import torch\n",
    "from torch.utils.data import TensorDataset, DataLoader\n",
    "from torch import nn\n",
    "from sklearn.metrics import accuracy_score, confusion_matrix, roc_curve, auc\n",
    "import matplotlib.pyplot as plt"
   ]
  },
  {
   "cell_type": "code",
   "execution_count": 3,
   "id": "768025ee",
   "metadata": {},
   "outputs": [],
   "source": [
    "# Data Preparation\n",
    "x_train, x_val_tes, y_train, y_val_tes = train_test_split(x, y, test_size=0.2)\n",
    "x_val, x_test, y_val, y_test = train_test_split(x_val_tes, y_val_tes, test_size=0.5)\n",
    "# Training\n",
    "X_train = torch.Tensor(x_train.values)\n",
    "X_train_cnn = X_train.reshape(X_train.shape[0], 1, 1, X_train.shape[1])\n",
    "Y_train = torch.Tensor(y_train.values)\n",
    "Y_train_cnn = Y_train.reshape(Y_train.shape[0], 1)\n",
    "# Validation\n",
    "X_val = torch.Tensor(x_val.values)\n",
    "X_val_cnn = X_val.reshape(X_val.shape[0], 1, 1, X_val.shape[1])\n",
    "Y_val = torch.Tensor(y_val.values)\n",
    "Y_val_cnn = Y_val.reshape(Y_val.shape[0], 1)\n",
    "# Testing\n",
    "X_test = torch.Tensor(x_test.values)\n",
    "X_test_cnn = X_test.reshape(X_test.shape[0], 1, 1, X_test.shape[1])\n",
    "Y_test = torch.Tensor(y_test.values)\n",
    "Y_test_cnn = Y_test.reshape(Y_test.shape[0], 1)\n",
    "# Training Loader\n",
    "train_loader = DataLoader(TensorDataset(X_train, Y_train), batch_size=10, shuffle=True)\n",
    "train_loader_cnn = DataLoader(TensorDataset(X_train, Y_train), batch_size=1, shuffle=True)"
   ]
  },
  {
   "cell_type": "code",
   "execution_count": 165,
   "id": "3b33d5d9",
   "metadata": {},
   "outputs": [],
   "source": [
    "class MyCNN(nn.Module):\n",
    "    def __init__(self):\n",
    "        super(MyCNN, self).__init__()\n",
    "        self.conv1 = nn.Conv1d(1, 16, 2)\n",
    "        self.activation1 = nn.ReLU()\n",
    "        self.pool1 = nn.MaxPool1d(2)\n",
    "        self.conv2 = nn.Conv1d(16, 32, 2)\n",
    "        self.activation2 = nn.ReLU()\n",
    "        self.pool2 = nn.MaxPool1d(2)\n",
    "        self.conv3 = nn.Conv1d(32, 64, 2)\n",
    "        self.activation3 = nn.ReLU()\n",
    "        self.linear1 = nn.Linear(64*14, 120)\n",
    "        self.activation4 = nn.ReLU()\n",
    "        self.linear2 = nn.Linear(120, 84)\n",
    "        self.activation5 = nn.ReLU()\n",
    "        self.linear3 = nn.Linear(84, 1)\n",
    "        self.sigmoid = nn.Sigmoid()\n",
    "        \n",
    "    \n",
    "    def forward(self, x):\n",
    "        output = self.conv1(x)\n",
    "        output = self.activation1(output)\n",
    "        output = self.pool1(output)\n",
    "        output = self.conv2(output)\n",
    "        output = self.activation2(output)\n",
    "        output = self.pool2(output)\n",
    "        output = self.conv3(output)\n",
    "        output = self.activation3(output)\n",
    "        \n",
    "        output = output.view(-1, 64*14)\n",
    "        output = self.linear1(output)\n",
    "        output = self.activation4(output)\n",
    "        output = self.linear2(output)\n",
    "        output = self.activation5(output)\n",
    "        output = self.linear3(output)\n",
    "        output = self.sigmoid(output)\n",
    "        \n",
    "        return output\n",
    "    \n",
    "network = MyCNN()\n",
    "loss_function = nn.BCELoss()\n",
    "optimizer = torch.optim.Adam(network.parameters(), lr=0.001)"
   ]
  },
  {
   "cell_type": "code",
   "execution_count": 166,
   "id": "5e77f557",
   "metadata": {},
   "outputs": [
    {
     "ename": "RuntimeError",
     "evalue": "Calculated padded input size per channel: (1). Kernel size: (2). Kernel size can't be greater than actual input size",
     "output_type": "error",
     "traceback": [
      "\u001b[1;31m---------------------------------------------------------------------------\u001b[0m",
      "\u001b[1;31mRuntimeError\u001b[0m                              Traceback (most recent call last)",
      "Cell \u001b[1;32mIn[166], line 10\u001b[0m\n\u001b[0;32m      7\u001b[0m inputs, outputs \u001b[38;5;241m=\u001b[39m data\n\u001b[0;32m      8\u001b[0m optimizer\u001b[38;5;241m.\u001b[39mzero_grad()\n\u001b[1;32m---> 10\u001b[0m predictions \u001b[38;5;241m=\u001b[39m \u001b[43mnetwork\u001b[49m\u001b[43m(\u001b[49m\u001b[43minputs\u001b[49m\u001b[43m)\u001b[49m\n\u001b[0;32m     11\u001b[0m loss \u001b[38;5;241m=\u001b[39m loss_function(predictions, outputs)\n\u001b[0;32m     12\u001b[0m loss\u001b[38;5;241m.\u001b[39mbackward()\n",
      "File \u001b[1;32m~\\AppData\\Local\\Programs\\Python\\Python311\\Lib\\site-packages\\torch\\nn\\modules\\module.py:1501\u001b[0m, in \u001b[0;36mModule._call_impl\u001b[1;34m(self, *args, **kwargs)\u001b[0m\n\u001b[0;32m   1496\u001b[0m \u001b[38;5;66;03m# If we don't have any hooks, we want to skip the rest of the logic in\u001b[39;00m\n\u001b[0;32m   1497\u001b[0m \u001b[38;5;66;03m# this function, and just call forward.\u001b[39;00m\n\u001b[0;32m   1498\u001b[0m \u001b[38;5;28;01mif\u001b[39;00m \u001b[38;5;129;01mnot\u001b[39;00m (\u001b[38;5;28mself\u001b[39m\u001b[38;5;241m.\u001b[39m_backward_hooks \u001b[38;5;129;01mor\u001b[39;00m \u001b[38;5;28mself\u001b[39m\u001b[38;5;241m.\u001b[39m_backward_pre_hooks \u001b[38;5;129;01mor\u001b[39;00m \u001b[38;5;28mself\u001b[39m\u001b[38;5;241m.\u001b[39m_forward_hooks \u001b[38;5;129;01mor\u001b[39;00m \u001b[38;5;28mself\u001b[39m\u001b[38;5;241m.\u001b[39m_forward_pre_hooks\n\u001b[0;32m   1499\u001b[0m         \u001b[38;5;129;01mor\u001b[39;00m _global_backward_pre_hooks \u001b[38;5;129;01mor\u001b[39;00m _global_backward_hooks\n\u001b[0;32m   1500\u001b[0m         \u001b[38;5;129;01mor\u001b[39;00m _global_forward_hooks \u001b[38;5;129;01mor\u001b[39;00m _global_forward_pre_hooks):\n\u001b[1;32m-> 1501\u001b[0m     \u001b[38;5;28;01mreturn\u001b[39;00m \u001b[43mforward_call\u001b[49m\u001b[43m(\u001b[49m\u001b[38;5;241;43m*\u001b[39;49m\u001b[43margs\u001b[49m\u001b[43m,\u001b[49m\u001b[43m \u001b[49m\u001b[38;5;241;43m*\u001b[39;49m\u001b[38;5;241;43m*\u001b[39;49m\u001b[43mkwargs\u001b[49m\u001b[43m)\u001b[49m\n\u001b[0;32m   1502\u001b[0m \u001b[38;5;66;03m# Do not call functions when jit is used\u001b[39;00m\n\u001b[0;32m   1503\u001b[0m full_backward_hooks, non_full_backward_hooks \u001b[38;5;241m=\u001b[39m [], []\n",
      "Cell \u001b[1;32mIn[165], line 27\u001b[0m, in \u001b[0;36mMyCNN.forward\u001b[1;34m(self, x)\u001b[0m\n\u001b[0;32m     25\u001b[0m output \u001b[38;5;241m=\u001b[39m \u001b[38;5;28mself\u001b[39m\u001b[38;5;241m.\u001b[39mactivation2(output)\n\u001b[0;32m     26\u001b[0m output \u001b[38;5;241m=\u001b[39m \u001b[38;5;28mself\u001b[39m\u001b[38;5;241m.\u001b[39mpool2(output)\n\u001b[1;32m---> 27\u001b[0m output \u001b[38;5;241m=\u001b[39m \u001b[38;5;28;43mself\u001b[39;49m\u001b[38;5;241;43m.\u001b[39;49m\u001b[43mconv3\u001b[49m\u001b[43m(\u001b[49m\u001b[43moutput\u001b[49m\u001b[43m)\u001b[49m\n\u001b[0;32m     28\u001b[0m output \u001b[38;5;241m=\u001b[39m \u001b[38;5;28mself\u001b[39m\u001b[38;5;241m.\u001b[39mactivation3(output)\n\u001b[0;32m     30\u001b[0m output \u001b[38;5;241m=\u001b[39m output\u001b[38;5;241m.\u001b[39mview(\u001b[38;5;241m-\u001b[39m\u001b[38;5;241m1\u001b[39m, \u001b[38;5;241m64\u001b[39m\u001b[38;5;241m*\u001b[39m\u001b[38;5;241m14\u001b[39m)\n",
      "File \u001b[1;32m~\\AppData\\Local\\Programs\\Python\\Python311\\Lib\\site-packages\\torch\\nn\\modules\\module.py:1501\u001b[0m, in \u001b[0;36mModule._call_impl\u001b[1;34m(self, *args, **kwargs)\u001b[0m\n\u001b[0;32m   1496\u001b[0m \u001b[38;5;66;03m# If we don't have any hooks, we want to skip the rest of the logic in\u001b[39;00m\n\u001b[0;32m   1497\u001b[0m \u001b[38;5;66;03m# this function, and just call forward.\u001b[39;00m\n\u001b[0;32m   1498\u001b[0m \u001b[38;5;28;01mif\u001b[39;00m \u001b[38;5;129;01mnot\u001b[39;00m (\u001b[38;5;28mself\u001b[39m\u001b[38;5;241m.\u001b[39m_backward_hooks \u001b[38;5;129;01mor\u001b[39;00m \u001b[38;5;28mself\u001b[39m\u001b[38;5;241m.\u001b[39m_backward_pre_hooks \u001b[38;5;129;01mor\u001b[39;00m \u001b[38;5;28mself\u001b[39m\u001b[38;5;241m.\u001b[39m_forward_hooks \u001b[38;5;129;01mor\u001b[39;00m \u001b[38;5;28mself\u001b[39m\u001b[38;5;241m.\u001b[39m_forward_pre_hooks\n\u001b[0;32m   1499\u001b[0m         \u001b[38;5;129;01mor\u001b[39;00m _global_backward_pre_hooks \u001b[38;5;129;01mor\u001b[39;00m _global_backward_hooks\n\u001b[0;32m   1500\u001b[0m         \u001b[38;5;129;01mor\u001b[39;00m _global_forward_hooks \u001b[38;5;129;01mor\u001b[39;00m _global_forward_pre_hooks):\n\u001b[1;32m-> 1501\u001b[0m     \u001b[38;5;28;01mreturn\u001b[39;00m \u001b[43mforward_call\u001b[49m\u001b[43m(\u001b[49m\u001b[38;5;241;43m*\u001b[39;49m\u001b[43margs\u001b[49m\u001b[43m,\u001b[49m\u001b[43m \u001b[49m\u001b[38;5;241;43m*\u001b[39;49m\u001b[38;5;241;43m*\u001b[39;49m\u001b[43mkwargs\u001b[49m\u001b[43m)\u001b[49m\n\u001b[0;32m   1502\u001b[0m \u001b[38;5;66;03m# Do not call functions when jit is used\u001b[39;00m\n\u001b[0;32m   1503\u001b[0m full_backward_hooks, non_full_backward_hooks \u001b[38;5;241m=\u001b[39m [], []\n",
      "File \u001b[1;32m~\\AppData\\Local\\Programs\\Python\\Python311\\Lib\\site-packages\\torch\\nn\\modules\\conv.py:313\u001b[0m, in \u001b[0;36mConv1d.forward\u001b[1;34m(self, input)\u001b[0m\n\u001b[0;32m    312\u001b[0m \u001b[38;5;28;01mdef\u001b[39;00m \u001b[38;5;21mforward\u001b[39m(\u001b[38;5;28mself\u001b[39m, \u001b[38;5;28minput\u001b[39m: Tensor) \u001b[38;5;241m-\u001b[39m\u001b[38;5;241m>\u001b[39m Tensor:\n\u001b[1;32m--> 313\u001b[0m     \u001b[38;5;28;01mreturn\u001b[39;00m \u001b[38;5;28;43mself\u001b[39;49m\u001b[38;5;241;43m.\u001b[39;49m\u001b[43m_conv_forward\u001b[49m\u001b[43m(\u001b[49m\u001b[38;5;28;43minput\u001b[39;49m\u001b[43m,\u001b[49m\u001b[43m \u001b[49m\u001b[38;5;28;43mself\u001b[39;49m\u001b[38;5;241;43m.\u001b[39;49m\u001b[43mweight\u001b[49m\u001b[43m,\u001b[49m\u001b[43m \u001b[49m\u001b[38;5;28;43mself\u001b[39;49m\u001b[38;5;241;43m.\u001b[39;49m\u001b[43mbias\u001b[49m\u001b[43m)\u001b[49m\n",
      "File \u001b[1;32m~\\AppData\\Local\\Programs\\Python\\Python311\\Lib\\site-packages\\torch\\nn\\modules\\conv.py:309\u001b[0m, in \u001b[0;36mConv1d._conv_forward\u001b[1;34m(self, input, weight, bias)\u001b[0m\n\u001b[0;32m    305\u001b[0m \u001b[38;5;28;01mif\u001b[39;00m \u001b[38;5;28mself\u001b[39m\u001b[38;5;241m.\u001b[39mpadding_mode \u001b[38;5;241m!=\u001b[39m \u001b[38;5;124m'\u001b[39m\u001b[38;5;124mzeros\u001b[39m\u001b[38;5;124m'\u001b[39m:\n\u001b[0;32m    306\u001b[0m     \u001b[38;5;28;01mreturn\u001b[39;00m F\u001b[38;5;241m.\u001b[39mconv1d(F\u001b[38;5;241m.\u001b[39mpad(\u001b[38;5;28minput\u001b[39m, \u001b[38;5;28mself\u001b[39m\u001b[38;5;241m.\u001b[39m_reversed_padding_repeated_twice, mode\u001b[38;5;241m=\u001b[39m\u001b[38;5;28mself\u001b[39m\u001b[38;5;241m.\u001b[39mpadding_mode),\n\u001b[0;32m    307\u001b[0m                     weight, bias, \u001b[38;5;28mself\u001b[39m\u001b[38;5;241m.\u001b[39mstride,\n\u001b[0;32m    308\u001b[0m                     _single(\u001b[38;5;241m0\u001b[39m), \u001b[38;5;28mself\u001b[39m\u001b[38;5;241m.\u001b[39mdilation, \u001b[38;5;28mself\u001b[39m\u001b[38;5;241m.\u001b[39mgroups)\n\u001b[1;32m--> 309\u001b[0m \u001b[38;5;28;01mreturn\u001b[39;00m \u001b[43mF\u001b[49m\u001b[38;5;241;43m.\u001b[39;49m\u001b[43mconv1d\u001b[49m\u001b[43m(\u001b[49m\u001b[38;5;28;43minput\u001b[39;49m\u001b[43m,\u001b[49m\u001b[43m \u001b[49m\u001b[43mweight\u001b[49m\u001b[43m,\u001b[49m\u001b[43m \u001b[49m\u001b[43mbias\u001b[49m\u001b[43m,\u001b[49m\u001b[43m \u001b[49m\u001b[38;5;28;43mself\u001b[39;49m\u001b[38;5;241;43m.\u001b[39;49m\u001b[43mstride\u001b[49m\u001b[43m,\u001b[49m\n\u001b[0;32m    310\u001b[0m \u001b[43m                \u001b[49m\u001b[38;5;28;43mself\u001b[39;49m\u001b[38;5;241;43m.\u001b[39;49m\u001b[43mpadding\u001b[49m\u001b[43m,\u001b[49m\u001b[43m \u001b[49m\u001b[38;5;28;43mself\u001b[39;49m\u001b[38;5;241;43m.\u001b[39;49m\u001b[43mdilation\u001b[49m\u001b[43m,\u001b[49m\u001b[43m \u001b[49m\u001b[38;5;28;43mself\u001b[39;49m\u001b[38;5;241;43m.\u001b[39;49m\u001b[43mgroups\u001b[49m\u001b[43m)\u001b[49m\n",
      "\u001b[1;31mRuntimeError\u001b[0m: Calculated padded input size per channel: (1). Kernel size: (2). Kernel size can't be greater than actual input size"
     ]
    }
   ],
   "source": [
    "epochs = 1000\n",
    "final_loss = []\n",
    "for epoch in range(epochs):\n",
    "    running_loss = 0.\n",
    "\n",
    "    for data in train_loader_cnn:\n",
    "        inputs, outputs = data\n",
    "        optimizer.zero_grad()\n",
    "\n",
    "        predictions = network(inputs)\n",
    "        loss = loss_function(predictions, outputs)\n",
    "        loss.backward()\n",
    "        optimizer.step()\n",
    "\n",
    "        running_loss += loss.item()\n",
    "    final_loss.append(running_loss/len(train_loader))\n",
    "    print('Epoch %3d: loss %.5f' % (epoch+1, running_loss/len(train_loader)))"
   ]
  },
  {
   "cell_type": "code",
   "execution_count": null,
   "id": "7ee1e068",
   "metadata": {},
   "outputs": [],
   "source": []
  },
  {
   "cell_type": "code",
   "execution_count": null,
   "id": "3f08a48e",
   "metadata": {},
   "outputs": [],
   "source": []
  },
  {
   "cell_type": "code",
   "execution_count": null,
   "id": "d7767bac",
   "metadata": {},
   "outputs": [],
   "source": []
  },
  {
   "cell_type": "code",
   "execution_count": 4,
   "id": "0d87d947",
   "metadata": {},
   "outputs": [],
   "source": [
    "class MyModel(nn.Module):\n",
    "    def __init__(self, input_features, dim1, dim2, output_features):\n",
    "        super(MyModel, self).__init__()\n",
    "#         self.conv1 = nn.Conv2d(2, 6, 5, padding=2)\n",
    "#         self.activation0 = nn.ReLU()\n",
    "        self.linear1 = nn.Linear(input_features, dim1, bias=False)\n",
    "        self.activation1 = nn.ReLU()\n",
    "        self.linear2 = nn.Linear(dim1, dim2)\n",
    "        self.activation2 = nn.ReLU()\n",
    "        self.linear3 = nn.Linear(dim2, output_features)\n",
    "        self.sigmoid = nn.Sigmoid()\n",
    "    \n",
    "    def forward(self, x):\n",
    "#         output = self.conv1(x)\n",
    "#         output = self.activation0(output)\n",
    "        output = self.linear1(x)\n",
    "        output = self.activation1(output)\n",
    "        output = self.linear2(output)\n",
    "        output = self.activation2(output)\n",
    "        output = self.linear3(output)\n",
    "        output = self.sigmoid(output)\n",
    "        return output\n",
    "    \n",
    "network = MyModel(8, 5, 3, 1)"
   ]
  },
  {
   "cell_type": "code",
   "execution_count": 5,
   "id": "ab5765e0",
   "metadata": {},
   "outputs": [],
   "source": [
    "loss_function = nn.BCELoss()\n",
    "optimizer = torch.optim.Adam(network.parameters(), lr=0.001)"
   ]
  },
  {
   "cell_type": "code",
   "execution_count": 6,
   "id": "a696045d",
   "metadata": {},
   "outputs": [],
   "source": [
    "epochs = 1000\n",
    "final_loss = []\n",
    "for epoch in range(epochs):\n",
    "    running_loss = 0.\n",
    "\n",
    "    for data in train_loader:\n",
    "        inputs, outputs = data\n",
    "        optimizer.zero_grad()\n",
    "\n",
    "        predictions = network(inputs)\n",
    "        loss = loss_function(predictions, outputs)\n",
    "        loss.backward()\n",
    "        optimizer.step()\n",
    "\n",
    "        running_loss += loss.item()\n",
    "    final_loss.append(running_loss/len(train_loader))\n",
    "    # print('Epoch %3d: loss %.5f' % (epoch+1, running_loss/len(train_loader)))"
   ]
  },
  {
   "cell_type": "code",
   "execution_count": 7,
   "id": "d8e96781",
   "metadata": {},
   "outputs": [
    {
     "data": {
      "text/plain": [
       "Text(0, 0.5, 'Epochs')"
      ]
     },
     "execution_count": 7,
     "metadata": {},
     "output_type": "execute_result"
    },
    {
     "data": {
      "image/png": "[encoded data removed]",
      "text/plain": [
       "<Figure size 640x480 with 1 Axes>"
      ]
     },
     "metadata": {},
     "output_type": "display_data"
    }
   ],
   "source": [
    "#plot the loss function\n",
    "plt.plot(range(epochs),final_loss)\n",
    "plt.ylabel('Loss')\n",
    "plt.ylabel('Epochs')"
   ]
  },
  {
   "cell_type": "code",
   "execution_count": 8,
   "id": "80b45cf8",
   "metadata": {},
   "outputs": [
    {
     "data": {
      "text/plain": [
       "15.595681369304657"
      ]
     },
     "execution_count": 8,
     "metadata": {},
     "output_type": "execute_result"
    }
   ],
   "source": [
    "running_loss"
   ]
  },
  {
   "cell_type": "code",
   "execution_count": 9,
   "id": "be12516c",
   "metadata": {},
   "outputs": [
    {
     "data": {
      "text/plain": [
       "0.8311688311688312"
      ]
     },
     "execution_count": 9,
     "metadata": {},
     "output_type": "execute_result"
    }
   ],
   "source": [
    "predictions = network.forward(X_test)\n",
    "predictions = (predictions >= 0.5)\n",
    "accuracy_score(Y_test, predictions.detach().numpy())"
   ]
  },
  {
   "cell_type": "code",
   "execution_count": 15,
   "id": "551c898f",
   "metadata": {},
   "outputs": [
    {
     "data": {
      "text/plain": [
       "0.8311688311688312"
      ]
     },
     "execution_count": 15,
     "metadata": {},
     "output_type": "execute_result"
    }
   ],
   "source": [
    "predictions = network(X_test)\n",
    "predictions = [1 if i >= 0.5 else 0 for i in predictions.detach().numpy()]\n",
    "accuracy_score(Y_test, predictions)"
   ]
  },
  {
   "cell_type": "code",
   "execution_count": 24,
   "id": "41b7aa3d",
   "metadata": {},
   "outputs": [
    {
     "name": "stdout",
     "output_type": "stream",
     "text": [
      "tes\n"
     ]
    }
   ],
   "source": [
    "if Y_test[0] == 0:\n",
    "    print('tes')"
   ]
  },
  {
   "cell_type": "code",
   "execution_count": 21,
   "id": "69eaff1f",
   "metadata": {},
   "outputs": [
    {
     "name": "stdout",
     "output_type": "stream",
     "text": [
      "tensor([True])\n",
      "tensor([True])\n",
      "tensor([True])\n",
      "tensor([True])\n",
      "tensor([True])\n",
      "tensor([True])\n",
      "tensor([False])\n",
      "tensor([True])\n",
      "tensor([True])\n",
      "tensor([True])\n",
      "tensor([True])\n",
      "tensor([True])\n",
      "tensor([True])\n",
      "tensor([True])\n",
      "tensor([False])\n",
      "tensor([True])\n",
      "tensor([True])\n",
      "tensor([True])\n",
      "tensor([True])\n",
      "tensor([True])\n",
      "tensor([False])\n",
      "tensor([True])\n",
      "tensor([True])\n",
      "tensor([True])\n",
      "tensor([True])\n",
      "tensor([True])\n",
      "tensor([True])\n",
      "tensor([True])\n",
      "tensor([True])\n",
      "tensor([True])\n",
      "tensor([True])\n",
      "tensor([False])\n",
      "tensor([True])\n",
      "tensor([True])\n",
      "tensor([True])\n",
      "tensor([True])\n",
      "tensor([False])\n",
      "tensor([True])\n",
      "tensor([True])\n",
      "tensor([True])\n",
      "tensor([True])\n",
      "tensor([True])\n",
      "tensor([True])\n",
      "tensor([True])\n",
      "tensor([True])\n",
      "tensor([True])\n",
      "tensor([True])\n",
      "tensor([False])\n",
      "tensor([True])\n",
      "tensor([True])\n",
      "tensor([True])\n",
      "tensor([True])\n",
      "tensor([True])\n",
      "tensor([False])\n",
      "tensor([True])\n",
      "tensor([True])\n",
      "tensor([False])\n",
      "tensor([False])\n",
      "tensor([False])\n",
      "tensor([True])\n",
      "tensor([True])\n",
      "tensor([True])\n",
      "tensor([True])\n",
      "tensor([True])\n",
      "tensor([True])\n",
      "tensor([True])\n",
      "tensor([False])\n",
      "tensor([True])\n",
      "tensor([True])\n",
      "tensor([False])\n",
      "tensor([True])\n",
      "tensor([True])\n",
      "tensor([True])\n",
      "tensor([True])\n",
      "tensor([False])\n",
      "tensor([True])\n",
      "tensor([True])\n"
     ]
    }
   ],
   "source": [
    "for i in range(len(predictions)):\n",
    "    print(Y_test[i]==predictions[i])"
   ]
  },
  {
   "cell_type": "code",
   "execution_count": 94,
   "id": "35154b3f",
   "metadata": {},
   "outputs": [
    {
     "data": {
      "text/plain": [
       "0.8311688311688312"
      ]
     },
     "execution_count": 94,
     "metadata": {},
     "output_type": "execute_result"
    }
   ],
   "source": [
    "predictions = network.forward(X_val)\n",
    "predictions = (predictions >= 0.5)\n",
    "accuracy_score(Y_val, predictions.detach().numpy())"
   ]
  },
  {
   "cell_type": "code",
   "execution_count": 81,
   "id": "9b3ea743",
   "metadata": {},
   "outputs": [],
   "source": [
    "fpr, tpr, threshold = roc_curve(Y_test, predictions)\n",
    "roc_auc = auc(fpr, tpr)"
   ]
  },
  {
   "cell_type": "code",
   "execution_count": 82,
   "id": "c1998d32",
   "metadata": {},
   "outputs": [
    {
     "name": "stdout",
     "output_type": "stream",
     "text": [
      "AUC for our classifier is: 0.7971342383107088\n"
     ]
    },
    {
     "data": {
      "image/png": "[encoded data removed]",
      "text/plain": [
       "<Figure size 640x480 with 1 Axes>"
      ]
     },
     "metadata": {},
     "output_type": "display_data"
    }
   ],
   "source": [
    "print(f\"AUC for our classifier is: {roc_auc}\")\n",
    "\n",
    "# Plotting the ROC\n",
    "plt.title('Receiver Operating Characteristic')\n",
    "plt.plot(fpr, tpr, 'b', label = 'AUC = %0.2f' % roc_auc)\n",
    "plt.legend(loc = 'lower right')\n",
    "plt.plot([0, 1], [0, 1],'r--')\n",
    "plt.xlim([0, 1])\n",
    "plt.ylim([0, 1])\n",
    "plt.ylabel('True Positive Rate')\n",
    "plt.xlabel('False Positive Rate')\n",
    "plt.show()"
   ]
  },
  {
   "cell_type": "code",
   "execution_count": 2,
   "id": "29c9b165",
   "metadata": {},
   "outputs": [],
   "source": [
    "import requests\n",
    "import pandas as pd\n",
    "from sklearn.model_selection import train_test_split\n",
    "\n",
    "# Download dataset from github\n",
    "def download_file(url):\n",
    "    local_filename = url.split('/')[-1]\n",
    "    with requests.get(url, stream=True) as r:\n",
    "        r.raise_for_status()\n",
    "        with open(local_filename, 'wb') as f:\n",
    "            for chunk in r.iter_content(chunk_size=8192): \n",
    "                f.write(chunk)\n",
    "    return local_filename\n",
    "\n",
    "file_url = 'https://raw.githubusercontent.com/xinxiewu/datasets/main/pima_indians_diabetes.csv'\n",
    "df = pd.read_csv(download_file(file_url))\n",
    "\n",
    "# Diabetes Group\n",
    "df.loc[(df['diabetes'] == 1) & (df['glucose'] == 0), 'glucose'] = 140\n",
    "df.loc[(df['diabetes'] == 1) & (df['bp'] == 0), 'bp'] = 74\n",
    "df.loc[(df['diabetes'] == 1) & (df['skin_thick'] == 0), 'skin_thick'] = 27\n",
    "df.loc[(df['diabetes'] == 1) & (df['insulin'] == 0), 'insulin'] = 100\n",
    "df.loc[(df['diabetes'] == 1) & (df['bmi'] == 0), 'bmi'] = 34.25\n",
    "df.loc[(df['diabetes'] == 1) & (df['pedigree'] == 0), 'pedigree'] = 0.449\n",
    "# Non-Diabetes Group\n",
    "df.loc[(df['diabetes'] == 0) & (df['glucose'] == 0), 'glucose'] = 107\n",
    "df.loc[(df['diabetes'] == 0) & (df['bp'] == 0), 'bp'] = 70\n",
    "df.loc[(df['diabetes'] == 0) & (df['skin_thick'] == 0), 'skin_thick'] = 21\n",
    "df.loc[(df['diabetes'] == 0) & (df['insulin'] == 0), 'insulin'] = 68.792\n",
    "df.loc[(df['diabetes'] == 0) & (df['bmi'] == 0), 'bmi'] = 30.05\n",
    "df.loc[(df['diabetes'] == 0) & (df['pedigree'] == 0), 'pedigree'] = 0.336\n",
    "\n",
    "# Normalization\n",
    "df.preg = (df.preg - df.preg.mean())/df.preg.std()\n",
    "df.glucose = (df.glucose - df.glucose.mean())/df.glucose.std()\n",
    "df.bp = (df.bp - df.bp.mean())/df.bp.std()\n",
    "df.skin_thick = (df.skin_thick - df.skin_thick.mean())/df.skin_thick.std()\n",
    "df.insulin = (df.insulin - df.insulin.mean())/df.insulin.std()\n",
    "df.bmi = (df.bmi - df.bmi.mean())/df.bmi.std()\n",
    "df.pedigree = (df.pedigree - df.pedigree.mean())/df.pedigree.std()\n",
    "df.age = (df.age - df.age.mean())/df.age.std()\n",
    "\n",
    "# 7:3 Data Split\n",
    "x = df.iloc[:, 0:8]\n",
    "y = df.iloc[:, 8:9]"
   ]
  }
 ],
 "metadata": {
  "kernelspec": {
   "display_name": "Python 3 (ipykernel)",
   "language": "python",
   "name": "python3"
  },
  "language_info": {
   "codemirror_mode": {
    "name": "ipython",
    "version": 3
   },
   "file_extension": ".py",
   "mimetype": "text/x-python",
   "name": "python",
   "nbconvert_exporter": "python",
   "pygments_lexer": "ipython3",
   "version": "3.11.2"
  }
 },
 "nbformat": 4,
 "nbformat_minor": 5
}
